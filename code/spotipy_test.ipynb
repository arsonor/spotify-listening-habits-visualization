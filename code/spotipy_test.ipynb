{
 "cells": [
  {
   "cell_type": "code",
   "execution_count": 40,
   "metadata": {},
   "outputs": [],
   "source": [
    "import spotipy\n",
    "from spotipy.oauth2 import SpotifyOAuth\n",
    "from spotipy.oauth2 import SpotifyClientCredentials\n",
    "\n",
    "import pandas as pd\n",
    "import json"
   ]
  },
  {
   "cell_type": "code",
   "execution_count": 41,
   "metadata": {},
   "outputs": [],
   "source": [
    "from dotenv import load_dotenv\n",
    "load_dotenv()\n",
    "\n",
    "import os\n",
    "client_id = os.getenv('spotipy_id')\n",
    "client_secret = os.getenv('spotipy_secret')\n",
    "SpotifyClientCredentials = SpotifyClientCredentials(client_id, client_secret) \n"
   ]
  },
  {
   "cell_type": "code",
   "execution_count": 42,
   "metadata": {},
   "outputs": [
    {
     "name": "stdout",
     "output_type": "stream",
     "text": [
      "Portraits (+ Remixes)\n",
      "Portraits\n",
      "Young Heart\n",
      "Beautiful Lies (Deluxe)\n",
      "Beautiful Lies\n",
      "Fire Within (Deluxe)\n",
      "Live in London\n",
      "Birdy (Deluxe Version)\n",
      "Birdy\n"
     ]
    }
   ],
   "source": [
    "birdy_uri = 'spotify:artist:2WX2uTcsvV5OnS0inACecP'\n",
    "spotify = spotipy.Spotify(client_credentials_manager=SpotifyClientCredentials)\n",
    "\n",
    "results = spotify.artist_albums(birdy_uri, album_type='album')\n",
    "albums = results['items']\n",
    "while results['next']:\n",
    "    results = spotify.next(results)\n",
    "    albums.extend(results['items'])\n",
    "\n",
    "for album in albums:\n",
    "    print(album['name'])"
   ]
  },
  {
   "cell_type": "code",
   "execution_count": 43,
   "metadata": {},
   "outputs": [
    {
     "data": {
      "text/html": [
       "<div>\n",
       "<style scoped>\n",
       "    .dataframe tbody tr th:only-of-type {\n",
       "        vertical-align: middle;\n",
       "    }\n",
       "\n",
       "    .dataframe tbody tr th {\n",
       "        vertical-align: top;\n",
       "    }\n",
       "\n",
       "    .dataframe thead th {\n",
       "        text-align: right;\n",
       "    }\n",
       "</style>\n",
       "<table border=\"1\" class=\"dataframe\">\n",
       "  <thead>\n",
       "    <tr style=\"text-align: right;\">\n",
       "      <th></th>\n",
       "      <th>danceability</th>\n",
       "      <th>energy</th>\n",
       "      <th>key</th>\n",
       "      <th>loudness</th>\n",
       "      <th>mode</th>\n",
       "      <th>speechiness</th>\n",
       "      <th>acousticness</th>\n",
       "      <th>instrumentalness</th>\n",
       "      <th>liveness</th>\n",
       "      <th>valence</th>\n",
       "      <th>tempo</th>\n",
       "      <th>type</th>\n",
       "      <th>id</th>\n",
       "      <th>uri</th>\n",
       "      <th>track_href</th>\n",
       "      <th>analysis_url</th>\n",
       "      <th>duration_ms</th>\n",
       "      <th>time_signature</th>\n",
       "    </tr>\n",
       "  </thead>\n",
       "  <tbody>\n",
       "    <tr>\n",
       "      <th>0</th>\n",
       "      <td>0.472</td>\n",
       "      <td>0.471</td>\n",
       "      <td>10</td>\n",
       "      <td>-5.692</td>\n",
       "      <td>1</td>\n",
       "      <td>0.0603</td>\n",
       "      <td>0.151</td>\n",
       "      <td>0</td>\n",
       "      <td>0.140</td>\n",
       "      <td>0.219</td>\n",
       "      <td>105.029</td>\n",
       "      <td>audio_features</td>\n",
       "      <td>6tNQ70jh4OwmPGpYy6R2o9</td>\n",
       "      <td>spotify:track:6tNQ70jh4OwmPGpYy6R2o9</td>\n",
       "      <td>https://api.spotify.com/v1/tracks/6tNQ70jh4Owm...</td>\n",
       "      <td>https://api.spotify.com/v1/audio-analysis/6tNQ...</td>\n",
       "      <td>180304</td>\n",
       "      <td>3</td>\n",
       "    </tr>\n",
       "    <tr>\n",
       "      <th>1</th>\n",
       "      <td>0.725</td>\n",
       "      <td>0.709</td>\n",
       "      <td>2</td>\n",
       "      <td>-6.514</td>\n",
       "      <td>1</td>\n",
       "      <td>0.0720</td>\n",
       "      <td>0.588</td>\n",
       "      <td>0</td>\n",
       "      <td>0.135</td>\n",
       "      <td>0.353</td>\n",
       "      <td>110.024</td>\n",
       "      <td>audio_features</td>\n",
       "      <td>7AYmToZ5y67fBjq4RLFbuq</td>\n",
       "      <td>spotify:track:7AYmToZ5y67fBjq4RLFbuq</td>\n",
       "      <td>https://api.spotify.com/v1/tracks/7AYmToZ5y67f...</td>\n",
       "      <td>https://api.spotify.com/v1/audio-analysis/7AYm...</td>\n",
       "      <td>235636</td>\n",
       "      <td>4</td>\n",
       "    </tr>\n",
       "  </tbody>\n",
       "</table>\n",
       "</div>"
      ],
      "text/plain": [
       "   danceability  energy  key  loudness  mode  speechiness  acousticness  \\\n",
       "0         0.472   0.471   10    -5.692     1       0.0603         0.151   \n",
       "1         0.725   0.709    2    -6.514     1       0.0720         0.588   \n",
       "\n",
       "   instrumentalness  liveness  valence    tempo            type  \\\n",
       "0                 0     0.140    0.219  105.029  audio_features   \n",
       "1                 0     0.135    0.353  110.024  audio_features   \n",
       "\n",
       "                       id                                   uri  \\\n",
       "0  6tNQ70jh4OwmPGpYy6R2o9  spotify:track:6tNQ70jh4OwmPGpYy6R2o9   \n",
       "1  7AYmToZ5y67fBjq4RLFbuq  spotify:track:7AYmToZ5y67fBjq4RLFbuq   \n",
       "\n",
       "                                          track_href  \\\n",
       "0  https://api.spotify.com/v1/tracks/6tNQ70jh4Owm...   \n",
       "1  https://api.spotify.com/v1/tracks/7AYmToZ5y67f...   \n",
       "\n",
       "                                        analysis_url  duration_ms  \\\n",
       "0  https://api.spotify.com/v1/audio-analysis/6tNQ...       180304   \n",
       "1  https://api.spotify.com/v1/audio-analysis/7AYm...       235636   \n",
       "\n",
       "   time_signature  \n",
       "0               3  \n",
       "1               4  "
      ]
     },
     "execution_count": 43,
     "metadata": {},
     "output_type": "execute_result"
    }
   ],
   "source": [
    "result = spotify.audio_features(['6tNQ70jh4OwmPGpYy6R2o9', '7AYmToZ5y67fBjq4RLFbuq'])\n",
    "pd.json_normalize(result)"
   ]
  }
 ],
 "metadata": {
  "kernelspec": {
   "display_name": "base",
   "language": "python",
   "name": "python3"
  },
  "language_info": {
   "codemirror_mode": {
    "name": "ipython",
    "version": 3
   },
   "file_extension": ".py",
   "mimetype": "text/x-python",
   "name": "python",
   "nbconvert_exporter": "python",
   "pygments_lexer": "ipython3",
   "version": "3.11.5"
  },
  "orig_nbformat": 4,
  "vscode": {
   "interpreter": {
    "hash": "ee357fe21d2c5b59048ebcf8de200b743c37ea7073bc3fb349357bef8b9cad26"
   }
  }
 },
 "nbformat": 4,
 "nbformat_minor": 2
}
